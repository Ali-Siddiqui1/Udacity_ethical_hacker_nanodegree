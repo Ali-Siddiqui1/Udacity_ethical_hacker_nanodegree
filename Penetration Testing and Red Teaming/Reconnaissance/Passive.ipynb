{
 "cells": [
  {
   "cell_type": "markdown",
   "id": "366d9687",
   "metadata": {},
   "source": [
    "\n",
    "The website platform by revealing the source code\n",
    "1. Exploits for the plugins in [Exploit Databse](https://www.exploit-db.com/)\n",
    "2. Typosquatting ideas using [Hover](https://www.hover.com/)\n",
    "3. Domain information using [Whois](https://www.whois.com/)\n",
    "4. DNS mapping using [NsLookup](https://www.nslookup.io/website-to-ip-lookup/)\n",
    "5. The open ports with [Shodan](https://www.shodan.io/)\n",
    "6. The internet cache on [Wayback Machine](https://web.archive.org/)\n",
    "\n"
   ]
  },
  {
   "cell_type": "markdown",
   "id": "554ae4ed",
   "metadata": {},
   "source": [
    "![Exploit Database](exploit-db.png)\n",
    "![Hover](hover.png)"
   ]
  }
 ],
 "metadata": {
  "language_info": {
   "name": "python"
  }
 },
 "nbformat": 4,
 "nbformat_minor": 5
}
