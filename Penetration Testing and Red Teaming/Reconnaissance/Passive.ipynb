{
 "cells": [
  {
   "cell_type": "markdown",
   "id": "366d9687",
   "metadata": {},
   "source": [
    "\n",
    "The website platform by revealing the source code\n",
    "1. Exploits for the plugins in Exploit Database\n",
    "2. Typosquatting ideas using Hover\n",
    "3. Domain information using Whois\n",
    "4. DNS mapping using NsLookup.\n",
    "5. The open ports with Shodan\n",
    "6. The internet cache on WayBack Machine.\n",
    "\n"
   ]
  },
  {
   "cell_type": "markdown",
   "id": "554ae4ed",
   "metadata": {},
   "source": [
    "![Exploit Database](exploit-db.png)\n",
    "![Hover](hover.png)"
   ]
  }
 ],
 "metadata": {
  "language_info": {
   "name": "python"
  }
 },
 "nbformat": 4,
 "nbformat_minor": 5
}
