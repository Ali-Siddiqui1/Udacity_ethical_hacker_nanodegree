{
 "cells": [
  {
   "cell_type": "markdown",
   "id": "366d9687",
   "metadata": {},
   "source": [
    "From this lab, we were able to discover:\n",
    "\n",
    "The website platform by revealing the source code\n",
    "Exploits for the plugins in Exploit Database(opens in a new tab)\n",
    "Typosquatting ideas using Hover(opens in a new tab)\n",
    "Domain information using Whois(opens in a new tab)\n",
    "DNS mapping using Ultratools. As Ultratools is no longer available, you can use NsLookup(opens in a new tab) as an alternative.\n",
    "The open ports with Shodan(opens in a new tab)\n",
    "The internet cache on WayBack Machine"
   ]
  }
 ],
 "metadata": {
  "language_info": {
   "name": "python"
  }
 },
 "nbformat": 4,
 "nbformat_minor": 5
}
